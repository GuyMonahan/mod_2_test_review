{
 "cells": [
  {
   "cell_type": "markdown",
   "metadata": {},
   "source": [
    "Test Prep for Mod 2"
   ]
  },
  {
   "cell_type": "code",
   "execution_count": 1,
   "metadata": {},
   "outputs": [],
   "source": [
    "import numpy as np\n",
    "import seaborn as sns"
   ]
  },
  {
   "cell_type": "markdown",
   "metadata": {},
   "source": [
    "1) Normal Distributions"
   ]
  },
  {
   "cell_type": "markdown",
   "metadata": {},
   "source": [
    "image of std dev"
   ]
  },
  {
   "cell_type": "markdown",
   "metadata": {},
   "source": [
    "# Glossary of terms\n",
    "### 𝜇 - \n",
    "the mean\n",
    "\n",
    "________________________________________________\n",
    "\n",
    "### 𝜎 - \n",
    "the population standard deviation\n",
    "\n",
    "________________________________________________\n",
    "\n",
    "### population - \n",
    "the collection of all the items of interest in a study (omega) the whole universe of things we are talking about\n",
    "\n",
    "________________________________________________\n",
    "\n",
    "### sample -  \n",
    "a subset of the population \n",
    "\n",
    "________________________________________________\n",
    "\n",
    "### subset - \n",
    "all the items that are in the population but in a specific group. A proper subset is some of the elements but not all of them\n",
    "\n",
    "________________________________________________\n",
    "\n",
    "### p-value - \n",
    "The probability of getting a result at least as extreme as the sample  assuming the null hypothesis is true. \n",
    "\n",
    "That is to say the probability that you got that result entirely due to chance with null hypothesis true. \n",
    "\n",
    "Assuming you null hypothesis is true what are the chance this (or something at least this extreme) even occurred. \n",
    "\n",
    "For example, imagine your null hypothesis 𝐻0 is that the population mean 𝜇 is 𝜇=10. Upon drawing\n",
    "a sample, you get a mean of 12. With the p-value, you are going to obtain a probability that,\n",
    "given a null hypothesis of 𝜇=10, you would observe a sample mean of 12.\n",
    "\n",
    "If your p-value is low, you will reject your null hypothesis. \n",
    "You will basically say that based on current evidence and testing, \n",
    "the null hypothesis is not true.\n",
    "\n",
    "If your p-value is high, you will fail to reject your null hypothesis. \n",
    "You will fail to reject the null hypothesis, \n",
    "that is, you will say that based on current evidence and testing, \n",
    "the null hypothesis cannot be rejected.\n",
    "\n",
    "If your p-value is low, you say that that the result is significant, in the sense \n",
    "that you conclude that the sample mean is significantly different from the population mean.\n",
    "\n",
    "_______________________________________________\n",
    "\n",
    "### Significance Threshold (alpha, 𝛼) - \n",
    "\n",
    "You noticed that we talked about \"high\" and \"low\" p-values, but that is pretty vague. \n",
    "What number is high and what number is low?\n",
    "\n",
    "This is where the significance level, also denoted as alpha or 𝛼 comes in. \n",
    "𝛼 is the threshold value that defines whether a p-value is low or high. \n",
    "You can define your alpha level yourself, but you'll see that an alpha level of \n",
    "𝛼=0.05 is most commonly used. You'll see 𝛼=0.1 and 𝛼=0.01 appear frequently as well.\n",
    "\n",
    "What level of alpha to use depends on your situation. Choosing a lower alpha leads to a test\n",
    "that is more strict, so you will be less likely to be able to reject your null-hypothesis \n",
    "(which is generally what you want). Choosing a higher alpha or significance level leads to \n",
    "a higher probability of rejecting the null-hypothesis. The downside of using a higher alpha\n",
    "level, however, is that you run a higher risk of falsely concluding that there is a difference\n",
    "between your null-hypothesis and your observed results when there actually isn't any.\n",
    "\n",
    "If p-value > alpha --> we fail to reject Null Hypothesis\n",
    "\n",
    "if p-value < alpha --> we reject Null Hypothesis\n",
    "\n",
    "________________________________________________\n",
    "\n",
    "### T-Critical -\n",
    "\n",
    "When our test statistic value, (z or t score) greater or less than t-critical value\n",
    "we can reject \n",
    "\n",
    "if t-value > t-critical --> we reject Null Hypothesis\n",
    "\n",
    "if t-value < t-critical --> we fail to reject Null Hypothesis\n",
    "\n",
    "if -t-value < -t-critical --> we reject Null Hypothesis\n",
    "\n",
    "if -t-value > -t-critical --> we fail to reject Null Hypothesis\n",
    "\n",
    "\n"
   ]
  },
  {
   "cell_type": "code",
   "execution_count": 2,
   "metadata": {},
   "outputs": [
    {
     "name": "stderr",
     "output_type": "stream",
     "text": [
      "C:\\Users\\GMoneyMan\\anaconda3\\envs\\learn-env\\lib\\site-packages\\seaborn\\distributions.py:2551: FutureWarning: `distplot` is a deprecated function and will be removed in a future version. Please adapt your code to use either `displot` (a figure-level function with similar flexibility) or `histplot` (an axes-level function for histograms).\n",
      "  warnings.warn(msg, FutureWarning)\n"
     ]
    },
    {
     "data": {
      "image/png": "[encoded data removed]",
      "text/plain": [
       "<Figure size 432x288 with 1 Axes>"
      ]
     },
     "metadata": {
      "needs_background": "light"
     },
     "output_type": "display_data"
    }
   ],
   "source": [
    "mu, sigma = 0.5, 0.1\n",
    "n = 1000\n",
    "s = np.random.normal(mu, sigma, n)\n",
    "sns.distplot(s);"
   ]
  },
  {
   "cell_type": "code",
   "execution_count": null,
   "metadata": {},
   "outputs": [],
   "source": []
  },
  {
   "cell_type": "code",
   "execution_count": null,
   "metadata": {},
   "outputs": [],
   "source": [
    "What do you do if we aren't given an alpha, how do we reject or fail to reject. "
   ]
  },
  {
   "cell_type": "markdown",
   "metadata": {},
   "source": [
    "# List of Functions"
   ]
  },
  {
   "cell_type": "markdown",
   "metadata": {},
   "source": [
    "## Standard Z-score\n",
    "The standard score (more commonly referred to as a 𝑧-score) \n",
    "is a very useful statistic because it allows us to:\n",
    "\n",
    "1) Calculate the probability of a certain score occurring within a given normal distribution\n",
    "\n",
    "2) Compare two scores that are from different normal distributions.\n",
    "\n",
    "Any normal distribution can be converted to a standard normal distribution and vice versa using this equation"
   ]
  },
  {
   "cell_type": "code",
   "execution_count": null,
   "metadata": {},
   "outputs": [],
   "source": [
    "z = (x - 𝜇) / 𝜎 "
   ]
  },
  {
   "cell_type": "markdown",
   "metadata": {},
   "source": [
    "𝑥 is an observation from the original normal distribution\n",
    "\n",
    "𝜇 is the mean \n",
    "\n",
    "𝜎 is the standard deviation of the original normal distribution.\n",
    "\n",
    "The standard normal distribution is sometimes called the 𝑧-distribution. \n",
    "\n",
    "A 𝑧-score always reflects the number of standard deviations above or below the mean."
   ]
  },
  {
   "cell_type": "markdown",
   "metadata": {},
   "source": [
    "### Z-Score examples"
   ]
  },
  {
   "cell_type": "markdown",
   "metadata": {},
   "source": [
    "Compute and interpret the z-score for a tree yielding 35 pounds of apples"
   ]
  },
  {
   "cell_type": "code",
   "execution_count": null,
   "metadata": {},
   "outputs": [],
   "source": [
    "mean = df.mean()\n",
    "sd = df.std()\n",
    "mean,sd\n",
    "\n",
    "#the mean value is 42.4 and the standard deviation is around 6\n",
    "# 68% of tree yields have weight between (42.4 - 6) 36.4 and (42.4 - 6) 48.4 pounds; \n",
    "# 95% between 30.4 and 54.4; \n",
    "# Almost all between 24.4 and 60.4 pounds"
   ]
  },
  {
   "cell_type": "code",
   "execution_count": null,
   "metadata": {},
   "outputs": [],
   "source": [
    "z = (35 - mean)/std\n",
    "z\n",
    "\n",
    "# -1.233844\n",
    "\n",
    "# Interpret the result\n",
    "\n",
    "# This tree’s yield is 1.23 standard deviations below the mean yield."
   ]
  },
  {
   "cell_type": "markdown",
   "metadata": {},
   "source": [
    "Suppose a tree has a z-score of 1.85. Interpret this z-score. What is the yield of this tree?"
   ]
  },
  {
   "cell_type": "code",
   "execution_count": null,
   "metadata": {},
   "outputs": [],
   "source": [
    "# Interpret the z score\n",
    "\n",
    "# This tree’s yield is 1.85 standard deviations above the mean\n",
    "\n",
    "X = mean + 1.85*sd\n",
    "X\n",
    "\n",
    "# Yield of this tree is 53.5 pounds. "
   ]
  },
  {
   "cell_type": "code",
   "execution_count": null,
   "metadata": {},
   "outputs": [],
   "source": []
  },
  {
   "cell_type": "markdown",
   "metadata": {},
   "source": [
    "## One sample z-test  \n",
    "Import numpy as np \n",
    "\n",
    "from  scipy import stats \n",
    "\n",
    "stats.ttest_1samp(TestSample1, popmean=0) \n",
    "\n",
    "_______________________________________________________________\n",
    "\n",
    "The one-sample 𝑧-test is used when you want to know \n",
    "\n",
    "if your sample comes from a particular population.\n",
    "\n",
    "The one-sample 𝑧-test is used only for tests related to the sample mean.\n",
    "\n",
    "When running a one-sample z-test, you test whether the average of the sample \n",
    "\n",
    "suggests that the students come from a certain population with a known mean or \n",
    "\n",
    "whether it may come from a different population.\n",
    "\n",
    "You already know what a 𝑧-score is and how to standardize a dataset into a 𝑧-distribution. \n",
    "\n",
    "By itself, the 𝑧-score doesn't provide a lot of information to conclude a question \n",
    "\n",
    "significantly (except for saying how many standard deviations some observation is from a mean).\n",
    "\n",
    "The real value from a 𝑧-test comes from comparing it against a z-table."
   ]
  },
  {
   "cell_type": "markdown",
   "metadata": {},
   "source": [
    "### One sample z-test examples"
   ]
  },
  {
   "cell_type": "code",
   "execution_count": null,
   "metadata": {},
   "outputs": [],
   "source": [
    "import scipy.stats as stats\n",
    "from math import sqrt\n",
    "x_bar = 103 # sample mean \n",
    "n = 40 # number of students\n",
    "sigma = 16 # sd of population\n",
    "mu = 100 # Population mean \n",
    "\n",
    "z = (x_bar - mu)/(sigma/sqrt(n))\n",
    "z"
   ]
  },
  {
   "cell_type": "code",
   "execution_count": null,
   "metadata": {},
   "outputs": [],
   "source": [
    "#Using the stats function we can find the p value from the z value we find.\n",
    "stats.norm.cdf(z)\n",
    "\n",
    "-> 0.8821600432854813\n"
   ]
  },
  {
   "cell_type": "markdown",
   "metadata": {},
   "source": [
    "The percent area under the curve from to a 𝑧-score of 1.19 is 88.2% (using the 𝑧-table \n",
    "or SciPy calculations), this means that the average intelligence of the tutored set of \n",
    "students is bigger than 88.2% of the population. But with alpha specified as 0.05, \n",
    "we wanted it to be greater than 95% to prove the hypothesis to be significant.\n",
    "\n",
    "Mathematically, you want to get the p-value, and this can be done by subtracting the \n",
    "𝑧-value from 1, since the sum of probabilities is always 1."
   ]
  },
  {
   "cell_type": "code",
   "execution_count": null,
   "metadata": {},
   "outputs": [],
   "source": [
    "pval = 1 - stats.norm.cdf(z)\n",
    "pval\n",
    "\n",
    "-> 0.11783995671451875"
   ]
  },
  {
   "cell_type": "markdown",
   "metadata": {},
   "source": [
    "our alpha is 0.05 and our p-value is 0.12. We can fail to reject our Null Hypothesis because our p-value \n",
    "is greater than alpha."
   ]
  },
  {
   "cell_type": "markdown",
   "metadata": {},
   "source": [
    "Our p-value (0.12) is larger than the alpha of 0.05. So what does that mean? \n",
    "Can you not conclude that tutoring leads to an IQ increase?\n",
    "\n",
    "Well, you still can't really say that for sure. What we can say is that there is not enough \n",
    "evidence to reject the null hypothesis with the given sample, given an alpha of 0.05. \n",
    "There are ways to scale experiments up and collect more data or apply sampling techniques \n",
    "to be sure about the real impact.\n",
    "\n",
    "And even when the sample data helps to reject the null hypothesis, you still cannot be 100% \n",
    "sure of the outcome. What you can say, however, is given the evidence, the results show a \n",
    "significant increase in the IQ as a result of tutoring, instead of saying \"tutoring improves IQ\"."
   ]
  },
  {
   "cell_type": "markdown",
   "metadata": {},
   "source": [
    "## Two sample z-test  \n",
    "Import numpy as np \n",
    "\n",
    "from  scipy import stats \n",
    "\n",
    "stats.ttest_ind(TestSample1, TestSample2)"
   ]
  },
  {
   "cell_type": "markdown",
   "metadata": {},
   "source": [
    "## One sample t-test \n",
    "Import numpy as np \n",
    "\n",
    "from  scipy import stats \n",
    "\n",
    "scipy.stats.ttest_1samp (test sample, popmean=0)"
   ]
  },
  {
   "cell_type": "markdown",
   "metadata": {},
   "source": [
    "## Two sample t-test \n",
    "Import scipy as stats \n",
    "\n",
    "independent_ttest(data1, data2, alpha)"
   ]
  },
  {
   "cell_type": "code",
   "execution_count": null,
   "metadata": {},
   "outputs": [],
   "source": []
  },
  {
   "cell_type": "code",
   "execution_count": null,
   "metadata": {},
   "outputs": [],
   "source": []
  },
  {
   "cell_type": "markdown",
   "metadata": {},
   "source": [
    "* What exactly is a z-score \n",
    "    * The number of stds a single data point is above or below the mean \n",
    "* What exactly is a t-score \n",
    "    * A t-score is basically the same thing but accounts for the fact that we know less about the distribution due usually a low sample size or not knowing population std  \n",
    "* A z, t, or F measures extremeness in terms of distance from the mean. \n",
    "* What is a p-value  \n",
    "    *  The probability of getting a result at least as extreme as the sample  assuming the null hypothesis is true. That is to say the probability that you got that result entirely due to chance with null hypothesis true.  \n",
    "    * Assuming you null hypothesis is true what are the chance this (or something at least this extreme) even occurred. \n",
    "* What is an alpha  \n",
    "    * The cut off probability below which we reject a null hypothesis and therefore conclude that the sample did not occur by chance \n",
    "* An ANOVA is a test for 3 or more means (and therefore the sample) to test whether the the means are statistically significantly difference.  \n",
    "    * An anova seeks to find whether the sample are from the same population \n",
    "* A two sample t-test test the means for statistically difference \n",
    "* A one sample t-test (or z-test) tries to determine whether a sample mean is equal to the population  \n",
    "* PR(>F) is the probability of getting a result at least as extreme as the one the F-score represents. This is your p-value. \n",
    "* P-hat is the proportion of the sample that met the condition  \n",
    "* What is happening in chi squared is I am comparing three sample proportions and determine whether they are all the same statistically and therefore part of the same population "
   ]
  },
  {
   "cell_type": "code",
   "execution_count": null,
   "metadata": {},
   "outputs": [],
   "source": []
  },
  {
   "cell_type": "code",
   "execution_count": null,
   "metadata": {},
   "outputs": [],
   "source": []
  },
  {
   "cell_type": "code",
   "execution_count": null,
   "metadata": {},
   "outputs": [],
   "source": []
  },
  {
   "cell_type": "code",
   "execution_count": null,
   "metadata": {},
   "outputs": [],
   "source": []
  },
  {
   "cell_type": "code",
   "execution_count": null,
   "metadata": {},
   "outputs": [],
   "source": []
  },
  {
   "cell_type": "code",
   "execution_count": null,
   "metadata": {},
   "outputs": [],
   "source": []
  },
  {
   "cell_type": "code",
   "execution_count": null,
   "metadata": {},
   "outputs": [],
   "source": []
  },
  {
   "cell_type": "code",
   "execution_count": null,
   "metadata": {},
   "outputs": [],
   "source": []
  },
  {
   "cell_type": "code",
   "execution_count": null,
   "metadata": {},
   "outputs": [],
   "source": []
  },
  {
   "cell_type": "code",
   "execution_count": null,
   "metadata": {},
   "outputs": [],
   "source": []
  },
  {
   "cell_type": "code",
   "execution_count": null,
   "metadata": {},
   "outputs": [],
   "source": []
  },
  {
   "cell_type": "code",
   "execution_count": null,
   "metadata": {},
   "outputs": [],
   "source": []
  },
  {
   "cell_type": "markdown",
   "metadata": {},
   "source": [
    "### Graph to visualize rejection regions"
   ]
  },
  {
   "cell_type": "code",
   "execution_count": null,
   "metadata": {},
   "outputs": [],
   "source": [
    "def visualize_t(t_stat, n_control, n_experimental):\n",
    "    “”\"\n",
    "    Visualize the critical t values on a t distribution\n",
    "    Parameters\n",
    "    -----------\n",
    "    t-stat: float\n",
    "    n_control: int\n",
    "    n_experiment: int\n",
    "    Returns\n",
    "    ----------\n",
    "    None\n",
    "    “”\"\n",
    "    # initialize a matplotlib “figure”\n",
    "    fig = plt.figure(figsize=(8,5))\n",
    "    ax = fig.gca()\n",
    "    # generate points on the x axis between -8 and 8:\n",
    "    xs = np.linspace(-8, 8, 500)\n",
    "    # use stats.t.ppf to get critical value. For alpha = 0.05 and two tailed test\n",
    "    crit = stats.t.ppf(1-0.025, (n_control+n_experimental-2))\n",
    "    # use stats.t.pdf to get values on the probability density function for the t-distribution\n",
    "    ys= stats.t.pdf(xs, (n_control+n_experimental-2), 0, 1)\n",
    "    ax.plot(xs, ys, linewidth=3, color=‘darkred’)\n",
    "    ax.axvline(crit, color=‘black’, linestyle=‘--’, lw=5)\n",
    "    ax.axvline(-crit, color=‘black’, linestyle=‘--’, lw=5)\n",
    "    plt.show()\n",
    "    return None\n",
    "visualize_t(t_stat, len(mm), len(ff))"
   ]
  }
 ],
 "metadata": {
  "kernelspec": {
   "display_name": "Python 3",
   "language": "python",
   "name": "python3"
  },
  "language_info": {
   "codemirror_mode": {
    "name": "ipython",
    "version": 3
   },
   "file_extension": ".py",
   "mimetype": "text/x-python",
   "name": "python",
   "nbconvert_exporter": "python",
   "pygments_lexer": "ipython3",
   "version": "3.8.5"
  }
 },
 "nbformat": 4,
 "nbformat_minor": 4
}
